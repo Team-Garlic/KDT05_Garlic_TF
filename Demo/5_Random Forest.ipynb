{
 "cells": [
  {
   "cell_type": "code",
   "execution_count": 20,
   "metadata": {},
   "outputs": [],
   "source": [
    "import pandas as pd\n",
    "\n",
    "df = pd.read_csv(\"data/data2.csv\")"
   ]
  },
  {
   "cell_type": "code",
   "execution_count": 21,
   "metadata": {},
   "outputs": [
    {
     "data": {
      "text/html": [
       "<div>\n",
       "<style scoped>\n",
       "    .dataframe tbody tr th:only-of-type {\n",
       "        vertical-align: middle;\n",
       "    }\n",
       "\n",
       "    .dataframe tbody tr th {\n",
       "        vertical-align: top;\n",
       "    }\n",
       "\n",
       "    .dataframe thead th {\n",
       "        text-align: right;\n",
       "    }\n",
       "</style>\n",
       "<table border=\"1\" class=\"dataframe\">\n",
       "  <thead>\n",
       "    <tr style=\"text-align: right;\">\n",
       "      <th></th>\n",
       "      <th>max_Temp</th>\n",
       "      <th>max_Temp.1</th>\n",
       "      <th>max_Temp.2</th>\n",
       "      <th>max_Temp.3</th>\n",
       "      <th>max_Temp.4</th>\n",
       "      <th>max_Temp.5</th>\n",
       "      <th>max_Temp.6</th>\n",
       "      <th>max_Temp.7</th>\n",
       "      <th>min_Temp</th>\n",
       "      <th>min_Temp.1</th>\n",
       "      <th>...</th>\n",
       "      <th>soil_Temp.4</th>\n",
       "      <th>soil_Temp.5</th>\n",
       "      <th>soil_Temp.6</th>\n",
       "      <th>soil_Temp.7</th>\n",
       "      <th>농가 수</th>\n",
       "      <th>재배면적</th>\n",
       "      <th>10a당 생산량</th>\n",
       "      <th>생산량</th>\n",
       "      <th>의성군재배면적</th>\n",
       "      <th>의성군생산량</th>\n",
       "    </tr>\n",
       "  </thead>\n",
       "  <tbody>\n",
       "    <tr>\n",
       "      <th>0</th>\n",
       "      <td>197.0</td>\n",
       "      <td>13.259898</td>\n",
       "      <td>8.086842</td>\n",
       "      <td>-3.4</td>\n",
       "      <td>6.70</td>\n",
       "      <td>13.40</td>\n",
       "      <td>18.900</td>\n",
       "      <td>31.3</td>\n",
       "      <td>197.0</td>\n",
       "      <td>0.792893</td>\n",
       "      <td>...</td>\n",
       "      <td>2.400</td>\n",
       "      <td>9.70</td>\n",
       "      <td>15.300</td>\n",
       "      <td>23.0</td>\n",
       "      <td>13198.0</td>\n",
       "      <td>27689.0</td>\n",
       "      <td>1400.0</td>\n",
       "      <td>387671.0</td>\n",
       "      <td>1700.0</td>\n",
       "      <td>19262.0</td>\n",
       "    </tr>\n",
       "    <tr>\n",
       "      <th>1</th>\n",
       "      <td>142.0</td>\n",
       "      <td>13.262676</td>\n",
       "      <td>8.074683</td>\n",
       "      <td>-1.5</td>\n",
       "      <td>6.30</td>\n",
       "      <td>12.85</td>\n",
       "      <td>18.950</td>\n",
       "      <td>33.2</td>\n",
       "      <td>142.0</td>\n",
       "      <td>1.618310</td>\n",
       "      <td>...</td>\n",
       "      <td>4.425</td>\n",
       "      <td>9.05</td>\n",
       "      <td>16.550</td>\n",
       "      <td>26.9</td>\n",
       "      <td>10376.0</td>\n",
       "      <td>25372.0</td>\n",
       "      <td>1432.0</td>\n",
       "      <td>363432.0</td>\n",
       "      <td>1444.0</td>\n",
       "      <td>14937.0</td>\n",
       "    </tr>\n",
       "    <tr>\n",
       "      <th>2</th>\n",
       "      <td>123.0</td>\n",
       "      <td>13.118699</td>\n",
       "      <td>8.606187</td>\n",
       "      <td>-9.3</td>\n",
       "      <td>7.05</td>\n",
       "      <td>14.80</td>\n",
       "      <td>19.650</td>\n",
       "      <td>29.7</td>\n",
       "      <td>123.0</td>\n",
       "      <td>0.526016</td>\n",
       "      <td>...</td>\n",
       "      <td>3.800</td>\n",
       "      <td>10.10</td>\n",
       "      <td>16.500</td>\n",
       "      <td>23.2</td>\n",
       "      <td>11495.0</td>\n",
       "      <td>21999.0</td>\n",
       "      <td>1402.0</td>\n",
       "      <td>312995.0</td>\n",
       "      <td>1340.0</td>\n",
       "      <td>13568.0</td>\n",
       "    </tr>\n",
       "    <tr>\n",
       "      <th>3</th>\n",
       "      <td>138.0</td>\n",
       "      <td>13.347826</td>\n",
       "      <td>8.858648</td>\n",
       "      <td>-6.5</td>\n",
       "      <td>6.10</td>\n",
       "      <td>13.00</td>\n",
       "      <td>19.975</td>\n",
       "      <td>30.5</td>\n",
       "      <td>138.0</td>\n",
       "      <td>0.561594</td>\n",
       "      <td>...</td>\n",
       "      <td>2.525</td>\n",
       "      <td>11.50</td>\n",
       "      <td>18.175</td>\n",
       "      <td>25.8</td>\n",
       "      <td>11228.0</td>\n",
       "      <td>22362.0</td>\n",
       "      <td>1220.0</td>\n",
       "      <td>290824.0</td>\n",
       "      <td>1246.0</td>\n",
       "      <td>12084.0</td>\n",
       "    </tr>\n",
       "    <tr>\n",
       "      <th>4</th>\n",
       "      <td>179.0</td>\n",
       "      <td>13.983799</td>\n",
       "      <td>8.490955</td>\n",
       "      <td>-8.0</td>\n",
       "      <td>7.15</td>\n",
       "      <td>15.50</td>\n",
       "      <td>20.600</td>\n",
       "      <td>31.5</td>\n",
       "      <td>179.0</td>\n",
       "      <td>0.834078</td>\n",
       "      <td>...</td>\n",
       "      <td>1.400</td>\n",
       "      <td>10.10</td>\n",
       "      <td>15.700</td>\n",
       "      <td>24.1</td>\n",
       "      <td>10691.0</td>\n",
       "      <td>24700.0</td>\n",
       "      <td>1288.0</td>\n",
       "      <td>312438.0</td>\n",
       "      <td>1215.0</td>\n",
       "      <td>11801.0</td>\n",
       "    </tr>\n",
       "    <tr>\n",
       "      <th>5</th>\n",
       "      <td>149.0</td>\n",
       "      <td>13.322033</td>\n",
       "      <td>7.293474</td>\n",
       "      <td>-6.6</td>\n",
       "      <td>7.50</td>\n",
       "      <td>13.90</td>\n",
       "      <td>19.300</td>\n",
       "      <td>27.9</td>\n",
       "      <td>149.0</td>\n",
       "      <td>1.969217</td>\n",
       "      <td>...</td>\n",
       "      <td>4.400</td>\n",
       "      <td>8.80</td>\n",
       "      <td>13.600</td>\n",
       "      <td>23.8</td>\n",
       "      <td>11228.0</td>\n",
       "      <td>27038.0</td>\n",
       "      <td>1356.0</td>\n",
       "      <td>334052.0</td>\n",
       "      <td>1184.0</td>\n",
       "      <td>14404.0</td>\n",
       "    </tr>\n",
       "  </tbody>\n",
       "</table>\n",
       "<p>6 rows × 86 columns</p>\n",
       "</div>"
      ],
      "text/plain": [
       "   max_Temp  max_Temp.1  max_Temp.2  max_Temp.3  max_Temp.4  max_Temp.5  \\\n",
       "0     197.0   13.259898    8.086842        -3.4        6.70       13.40   \n",
       "1     142.0   13.262676    8.074683        -1.5        6.30       12.85   \n",
       "2     123.0   13.118699    8.606187        -9.3        7.05       14.80   \n",
       "3     138.0   13.347826    8.858648        -6.5        6.10       13.00   \n",
       "4     179.0   13.983799    8.490955        -8.0        7.15       15.50   \n",
       "5     149.0   13.322033    7.293474        -6.6        7.50       13.90   \n",
       "\n",
       "   max_Temp.6  max_Temp.7  min_Temp  min_Temp.1  ...  soil_Temp.4  \\\n",
       "0      18.900        31.3     197.0    0.792893  ...        2.400   \n",
       "1      18.950        33.2     142.0    1.618310  ...        4.425   \n",
       "2      19.650        29.7     123.0    0.526016  ...        3.800   \n",
       "3      19.975        30.5     138.0    0.561594  ...        2.525   \n",
       "4      20.600        31.5     179.0    0.834078  ...        1.400   \n",
       "5      19.300        27.9     149.0    1.969217  ...        4.400   \n",
       "\n",
       "   soil_Temp.5  soil_Temp.6  soil_Temp.7     농가 수     재배면적  10a당 생산량  \\\n",
       "0         9.70       15.300         23.0  13198.0  27689.0    1400.0   \n",
       "1         9.05       16.550         26.9  10376.0  25372.0    1432.0   \n",
       "2        10.10       16.500         23.2  11495.0  21999.0    1402.0   \n",
       "3        11.50       18.175         25.8  11228.0  22362.0    1220.0   \n",
       "4        10.10       15.700         24.1  10691.0  24700.0    1288.0   \n",
       "5         8.80       13.600         23.8  11228.0  27038.0    1356.0   \n",
       "\n",
       "        생산량  의성군재배면적   의성군생산량  \n",
       "0  387671.0   1700.0  19262.0  \n",
       "1  363432.0   1444.0  14937.0  \n",
       "2  312995.0   1340.0  13568.0  \n",
       "3  290824.0   1246.0  12084.0  \n",
       "4  312438.0   1215.0  11801.0  \n",
       "5  334052.0   1184.0  14404.0  \n",
       "\n",
       "[6 rows x 86 columns]"
      ]
     },
     "execution_count": 21,
     "metadata": {},
     "output_type": "execute_result"
    }
   ],
   "source": [
    "df"
   ]
  },
  {
   "cell_type": "code",
   "execution_count": 22,
   "metadata": {},
   "outputs": [
    {
     "data": {
      "text/plain": [
       "(6, 3741)"
      ]
     },
     "execution_count": 22,
     "metadata": {},
     "output_type": "execute_result"
    }
   ],
   "source": [
    "# Polynimoal Feature 만들기\n",
    "from sklearn.preprocessing import PolynomialFeatures\n",
    "\n",
    "poly = PolynomialFeatures(degree=2)\n",
    "poly_features = poly.fit_transform(df[df.columns[:-1]])\n",
    "poly_features.shape"
   ]
  },
  {
   "cell_type": "code",
   "execution_count": 23,
   "metadata": {},
   "outputs": [
    {
     "name": "stdout",
     "output_type": "stream",
     "text": [
      "0    19262.0\n",
      "1    14937.0\n",
      "2    13568.0\n",
      "3    12084.0\n",
      "4    11801.0\n",
      "Name: 의성군생산량, dtype: float64\n"
     ]
    },
    {
     "data": {
      "text/plain": [
       "1167476.5416800012"
      ]
     },
     "execution_count": 23,
     "metadata": {},
     "output_type": "execute_result"
    }
   ],
   "source": [
    "# 랜덤 포레스트로 데이터 훈련\n",
    "from sklearn.ensemble import RandomForestRegressor\n",
    "from sklearn.model_selection import train_test_split\n",
    "from sklearn.metrics import mean_squared_error\n",
    "\n",
    "# 훈련 데이터 분리\n",
    "X_train, X_test, y_train, y_test = train_test_split(df[df.columns[:-1]], df[\"의성군생산량\"], test_size=0.16, shuffle=False)\n",
    "\n",
    "# 모델 생성\n",
    "model = RandomForestRegressor(n_estimators=100, random_state=42)\n",
    "print(y_train)\n",
    "model.fit(X_train, y_train)\n",
    "\n",
    "# 예측\n",
    "y_pred = model.predict(X_train)\n",
    "\n",
    "# 평가\n",
    "mse = mean_squared_error(y_train, y_pred)\n",
    "mse"
   ]
  },
  {
   "cell_type": "code",
   "execution_count": 24,
   "metadata": {},
   "outputs": [
    {
     "data": {
      "text/plain": [
       "0.8410042199185895"
      ]
     },
     "execution_count": 24,
     "metadata": {},
     "output_type": "execute_result"
    }
   ],
   "source": [
    "#R2 출력\n",
    "from sklearn.metrics import r2_score\n",
    "r2 = r2_score(y_train, y_pred)\n",
    "r2\n",
    "# 84%"
   ]
  },
  {
   "cell_type": "code",
   "execution_count": 25,
   "metadata": {},
   "outputs": [
    {
     "data": {
      "text/plain": [
       "array([14404.03])"
      ]
     },
     "execution_count": 25,
     "metadata": {},
     "output_type": "execute_result"
    }
   ],
   "source": [
    "# 예측\n",
    "y_pred = model.predict(X_test)\n",
    "\n",
    "y_pred"
   ]
  },
  {
   "cell_type": "code",
   "execution_count": null,
   "metadata": {},
   "outputs": [],
   "source": []
  }
 ],
 "metadata": {
  "kernelspec": {
   "display_name": "TEXT_017_220_38",
   "language": "python",
   "name": "python3"
  },
  "language_info": {
   "codemirror_mode": {
    "name": "ipython",
    "version": 3
   },
   "file_extension": ".py",
   "mimetype": "text/x-python",
   "name": "python",
   "nbconvert_exporter": "python",
   "pygments_lexer": "ipython3",
   "version": "3.8.19"
  }
 },
 "nbformat": 4,
 "nbformat_minor": 2
}
