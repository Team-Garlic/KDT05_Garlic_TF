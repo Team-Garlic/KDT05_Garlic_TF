{
 "cells": [
  {
   "cell_type": "code",
   "execution_count": null,
   "id": "initial_id",
   "metadata": {
    "collapsed": true
   },
   "outputs": [],
   "source": []
  },
  {
   "cell_type": "code",
   "outputs": [
    {
     "ename": "ModuleNotFoundError",
     "evalue": "No module named 'pandas'",
     "output_type": "error",
     "traceback": [
      "\u001B[0;31m---------------------------------------------------------------------------\u001B[0m",
      "\u001B[0;31mModuleNotFoundError\u001B[0m                       Traceback (most recent call last)",
      "Cell \u001B[0;32mIn[2], line 4\u001B[0m\n\u001B[1;32m      1\u001B[0m \u001B[38;5;66;03m# 전체 코드 예제\u001B[39;00m\n\u001B[1;32m      2\u001B[0m \n\u001B[1;32m      3\u001B[0m \u001B[38;5;66;03m# 데이터 로드\u001B[39;00m\n\u001B[0;32m----> 4\u001B[0m \u001B[38;5;28;01mimport\u001B[39;00m \u001B[38;5;21;01mpandas\u001B[39;00m \u001B[38;5;28;01mas\u001B[39;00m \u001B[38;5;21;01mpd\u001B[39;00m\n\u001B[1;32m      5\u001B[0m data_path \u001B[38;5;241m=\u001B[39m \u001B[38;5;124m'\u001B[39m\u001B[38;5;124m/mnt/data/data.csv\u001B[39m\u001B[38;5;124m'\u001B[39m\n\u001B[1;32m      6\u001B[0m data \u001B[38;5;241m=\u001B[39m pd\u001B[38;5;241m.\u001B[39mread_csv(data_path)\n",
      "\u001B[0;31mModuleNotFoundError\u001B[0m: No module named 'pandas'"
     ]
    }
   ],
   "source": [
    "# 전체 코드 예제\n",
    "\n",
    "# 데이터 로드\n",
    "import pandas as pd\n",
    "data_path = '/mnt/data/data.csv'\n",
    "data = pd.read_csv(data_path)\n",
    "\n",
    "# PyCaret 임포트\n",
    "from pycaret.regression import *\n",
    "\n",
    "# PyCaret 설정\n",
    "regression_setup = setup(data, target='target', session_id=42, silent=True)\n",
    "\n",
    "# 모델 비교\n",
    "best_model = compare_models()\n",
    "\n",
    "# 선택된 모델 튜닝\n",
    "tuned_model = tune_model(best_model)\n",
    "\n",
    "# 모델 평가\n",
    "evaluate_model(tuned_model)\n",
    "\n",
    "# 최종 모델 저장\n",
    "final_model = finalize_model(tuned_model)\n",
    "save_model(final_model, 'best_regression_model')\n",
    "\n",
    "# 결과값 시각화\n",
    "# PyCaret은 다양한 시각화 기능을 제공합니다.\n",
    "# 1. 모델 비교\n",
    "compare_models_plot = compare_models()\n",
    "\n",
    "# 2. 모델 평가 (잔차 플롯 등)\n",
    "evaluate_model(tuned_model)\n",
    "\n",
    "# 3. 예측 vs 실제 값 플롯\n",
    "predictions = predict_model(final_model)\n",
    "\n",
    "import matplotlib.pyplot as plt\n",
    "import seaborn as sns\n",
    "\n",
    "# 예측 vs 실제 값 시각화\n",
    "plt.figure(figsize=(10, 6))\n",
    "sns.scatterplot(x=predictions['Label'], y=predictions['target'])\n",
    "plt.xlabel('Predicted Values')\n",
    "plt.ylabel('Actual Values')\n",
    "plt.title('Predicted vs Actual Values')\n",
    "plt.show()\n"
   ],
   "metadata": {
    "collapsed": false,
    "ExecuteTime": {
     "end_time": "2024-05-23T05:16:00.718046Z",
     "start_time": "2024-05-23T05:16:00.699692Z"
    }
   },
   "id": "31929e50813d2648",
   "execution_count": 2
  },
  {
   "cell_type": "code",
   "outputs": [],
   "source": [],
   "metadata": {
    "collapsed": false
   },
   "id": "b2b784af5260ae30"
  }
 ],
 "metadata": {
  "kernelspec": {
   "display_name": "Python 3",
   "language": "python",
   "name": "python3"
  },
  "language_info": {
   "codemirror_mode": {
    "name": "ipython",
    "version": 2
   },
   "file_extension": ".py",
   "mimetype": "text/x-python",
   "name": "python",
   "nbconvert_exporter": "python",
   "pygments_lexer": "ipython2",
   "version": "2.7.6"
  }
 },
 "nbformat": 4,
 "nbformat_minor": 5
}
